{
 "cells": [
  {
   "cell_type": "markdown",
   "metadata": {},
   "source": [
    "Nuskaityti kategoriją **Meilės romanai** ir puslapių skaičių"
   ]
  },
  {
   "cell_type": "code",
   "execution_count": null,
   "metadata": {},
   "outputs": [
    {
     "name": "stdout",
     "output_type": "stream",
     "text": [
      "meiles-romanai 90\n"
     ]
    }
   ],
   "source": [
    "import requests\n",
    "from bs4 import BeautifulSoup\n",
    "from urllib.parse import urlparse\n",
    "\n",
    "url = \"https://www.knygos.lt/lt/knygos/zanras/meiles-romanai/\"\n",
    "r = requests.get(url)\n",
    "soup = BeautifulSoup(r.text)\n",
    "\n",
    "psl_sk = int(soup.find(class_=\"numbers d-flex\").find_all(\"li\")[-2].text)\n",
    "kategorija = urlparse(url).path.strip(\"/\").split(\"/\")[-1]\n",
    "print(kategorija, psl_sk)"
   ]
  },
  {
   "cell_type": "markdown",
   "metadata": {},
   "source": [
    "Saugoti meilės romanų knygų nuorodas į tekstinį failą"
   ]
  },
  {
   "cell_type": "code",
   "execution_count": null,
   "metadata": {},
   "outputs": [
    {
     "name": "stdout",
     "output_type": "stream",
     "text": [
      "Links saved to meiles_romanai_links.txt\n"
     ]
    }
   ],
   "source": [
    "import requests\n",
    "from bs4 import BeautifulSoup\n",
    "import time\n",
    "\n",
    "with open(\"meiles_romanai_links.txt\", \"a+\") as file:\n",
    "    for page in range(1, psl_sk + 1):\n",
    "        url = f\"https://www.knygos.lt/lt/knygos/zanras/{kategorija}/?psl={page}\"\n",
    "        response = requests.get(url)\n",
    "\n",
    "        if response.status_code == 200:\n",
    "            soup = BeautifulSoup(response.content, \"html.parser\")\n",
    "\n",
    "            book_elements = soup.find_all(\"a\", class_=\"product-link\")\n",
    "            for book in book_elements:\n",
    "                href = book.get(\"href\").strip()\n",
    "                file.write(href + \"\\n\")\n",
    "        else:\n",
    "            print(f\"Page {page} not accessible.\")\n",
    "        time.sleep(1)\n",
    "\n",
    "print(\"Links saved to meiles_romanai_links.txt\")\n"
   ]
  },
  {
   "cell_type": "code",
   "execution_count": null,
   "metadata": {},
   "outputs": [
    {
     "name": "stdout",
     "output_type": "stream",
     "text": [
      "Aplankas 'Meiles_romanai_html' buvo sukurtas.\n"
     ]
    }
   ],
   "source": [
    "import os\n",
    "\n",
    "folder_name = \"Meiles_romanai_html\"\n",
    "\n",
    "if not os.path.exists(folder_name):\n",
    "    os.makedirs(folder_name)\n",
    "    print(f\"Aplankas '{folder_name}' buvo sukurtas.\")\n",
    "else:\n",
    "    print(f\"Aplankas '{folder_name}' jau egzistuoja.\")"
   ]
  },
  {
   "cell_type": "code",
   "execution_count": null,
   "metadata": {},
   "outputs": [
    {
     "name": "stdout",
     "output_type": "stream",
     "text": [
      "Klaida renkant informaciją apie knygą https://www.knygos.lt/lt/knygos/paskutinis-jos-pazadas/: ('Connection aborted.', ConnectionResetError(10054, 'An existing connection was forcibly closed by the remote host', None, 10054, None))\n",
      "Klaida renkant informaciją apie knygą https://www.knygos.lt/lt/knygos/vestuviu-fejos--indre--suzydeje-jausmai--slapyvardziu-prisidengusios-zinomos-lietuviu-rasytojos-jausmu-romanu-trilogijos-trecioji-dalis--su-autografu--1ffmf/: [Errno 2] No such file or directory: 'Meiles_romanai_html/vestuviu-fejos--indre--suzydeje-jausmai--slapyvardziu-prisidengusios-zinomos-lietuviu-rasytojos-jausmu-romanu-trilogijos-trecioji-dalis--su-autografu--1ffmf.html'\n",
      "Klaida renkant informaciją apie knygą https://www.knygos.lt/lt/knygos/vasara-vasari-intelektualiai-ir-jautriai-papasakota-meiles-istorija-neisvengusi-tragiskos-lemties-i-didziuosius-kino-ekranus-perkelta-paties-christopherio-menaulo/: [Errno 2] No such file or directory: 'Meiles_romanai_html/vasara-vasari-intelektualiai-ir-jautriai-papasakota-meiles-istorija-neisvengusi-tragiskos-lemties-i-didziuosius-kino-ekranus-perkelta-paties-christopherio-menaulo.html'\n",
      "Klaida renkant informaciją apie knygą https://www.knygos.lt/lt/knygos/milijonus-sirdziu-visame-pasaulyje-uzkariavusio-nr-1-bestselerio---crossfire-serija--paskesk-manyje---uzvaldyk-mane---pasinerk-i-mane---atskleisk-mane---apnuogink-mane/: [Errno 2] No such file or directory: 'Meiles_romanai_html/milijonus-sirdziu-visame-pasaulyje-uzkariavusio-nr-1-bestselerio---crossfire-serija--paskesk-manyje---uzvaldyk-mane---pasinerk-i-mane---atskleisk-mane---apnuogink-mane.html'\n"
     ]
    }
   ],
   "source": [
    "# Knygų puslapiai saugoti 2024-11-07\n",
    "from urllib.parse import urlparse\n",
    "import requests\n",
    "import time\n",
    "\n",
    "# Nuskaityti knygų nuorodas iš failo\n",
    "with open(\"meiles_romanai_links.txt\", \"r\") as file:\n",
    "    books_links = [line.strip() for line in file.readlines() if line.strip()]\n",
    "\n",
    "    for link in books_links:\n",
    "        try:\n",
    "            # Užkrauti knygos puslapį\n",
    "            book_response = requests.get(link)\n",
    "            path_parts = urlparse(link).path.strip(\"/\").split(\"/\")\n",
    "            with open(f\"{folder_name}/{path_parts[-1]}.html\", \"wb\") as file:  #\n",
    "                file.write(book_response.content)\n",
    "            time.sleep(1)\n",
    "        except Exception as e:\n",
    "            print(f\"Klaida renkant informaciją apie knygą {link}: {e}\")\n",
    "            time.sleep(5)  # Pristabdyti tarp užklausų\n",
    "            continue"
   ]
  },
  {
   "cell_type": "markdown",
   "metadata": {},
   "source": [
    "Nuskaityti knygų nuorodas ir išsaugoti knygų viršelius aplanke"
   ]
  },
  {
   "cell_type": "code",
   "execution_count": null,
   "metadata": {},
   "outputs": [
    {
     "name": "stderr",
     "output_type": "stream",
     "text": [
      "100%|██████████| 2676/2676 [2:17:51<00:00,  3.09s/it]  \n"
     ]
    }
   ],
   "source": [
    "import os\n",
    "import requests\n",
    "from bs4 import BeautifulSoup\n",
    "from tqdm import tqdm\n",
    "from time import sleep\n",
    "\n",
    "input_folder = \"Meiles_romanai_html\"\n",
    "output_folder = \"Meiles_romanu_virseliai1\"\n",
    "\n",
    "if not os.path.exists(output_folder):\n",
    "    os.makedirs(output_folder)\n",
    "\n",
    "# Eiti per kiekvieną failą aplanke\n",
    "for file_name in tqdm(os.listdir(input_folder)):\n",
    "    file_path = os.path.join(input_folder, file_name)\n",
    "\n",
    "    # Atidaryti ir skaityti HTML failą\n",
    "    with open(file_path, \"r\", encoding=\"utf-8\") as file:\n",
    "        html_content = file.read()\n",
    "\n",
    "    # Sukurti BeautifulSoup objektą, kad būtų galima analizuoti HTML\n",
    "    soup = BeautifulSoup(html_content, \"html.parser\")\n",
    "\n",
    "    # Surasti viršelio nuorodą\n",
    "    cover_img_tag = soup.find(\"img\", itemprop=\"image\")\n",
    "    if cover_img_tag:\n",
    "        cover_url = cover_img_tag[\"src\"]\n",
    "        file_extension = os.path.splitext(cover_url)[1]  # Ištraukti failo plėtinį iš viršelio URL\n",
    "\n",
    "        # Atsisiųskite viršelio paveikslėlį\n",
    "        response = requests.get(cover_url)\n",
    "        if response.status_code == 200:\n",
    "            # Išsaugoti viršelį su knygos pavadinimu ir tinkamu failo formatu\n",
    "            safe_title = file_name.split(\".\")[0]\n",
    "            image_path = os.path.join(output_folder, f\"{safe_title}{file_extension}\")\n",
    "\n",
    "            with open(image_path, \"wb\") as img_file:\n",
    "                img_file.write(response.content)\n",
    "        else:\n",
    "            print(f\"Nepavyko atsisiųsti viršelio: {safe_title}\")\n",
    "    else:\n",
    "        print(f\"Viršelio nuoroda nerasta: {safe_title}\")\n",
    "    sleep(2)"
   ]
  }
 ],
 "metadata": {
  "kernelspec": {
   "display_name": "Python 3",
   "language": "python",
   "name": "python3"
  },
  "language_info": {
   "codemirror_mode": {
    "name": "ipython",
    "version": 3
   },
   "file_extension": ".py",
   "mimetype": "text/x-python",
   "name": "python",
   "nbconvert_exporter": "python",
   "pygments_lexer": "ipython3",
   "version": "3.12.2"
  }
 },
 "nbformat": 4,
 "nbformat_minor": 2
}
