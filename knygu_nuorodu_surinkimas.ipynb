{
 "cells": [
  {
   "cell_type": "markdown",
   "metadata": {},
   "source": [
    "Naudojamos **requests** biblioteka puslapiui užkrauti ir  **BeautifulSoup** HTML analizei atlikti"
   ]
  },
  {
   "cell_type": "markdown",
   "metadata": {},
   "source": [
    "Sukuriamas grožinės literatūros kategorijų sąrašas"
   ]
  },
  {
   "cell_type": "code",
   "execution_count": 4,
   "metadata": {},
   "outputs": [],
   "source": [
    "import requests\n",
    "from bs4 import BeautifulSoup\n",
    "import time\n",
    "\n",
    "url = \"https://www.knygos.lt/lt/knygos/zanras/grozine-literatura/\"\n",
    "response = requests.get(url)\n",
    "\n",
    "if response.status_code == 200:\n",
    "    soup = BeautifulSoup(response.text, \"html.parser\")\n",
    "    genres = soup.find_all(\"a\", class_=\"title-link\")\n",
    "    genres_list = []\n",
    "    for genre in genres:\n",
    "        genre.text.strip()\n",
    "        genres_list.append(genre.get(\"href\").split(\"/\")[-2])  # pridedamas prie žanrų sąrašo\n",
    "        time.sleep(1)  # Pridedame laukimo laiką\n",
    "else:\n",
    "    print(\"Nepavyko užkrauti puslapio\")"
   ]
  },
  {
   "cell_type": "code",
   "execution_count": 5,
   "metadata": {},
   "outputs": [
    {
     "data": {
      "text/plain": [
       "['isskirtine-knygos-lt-kolekcija',\n",
       " 'meiles-romanai',\n",
       " 'detektyvai-trileriai',\n",
       " 'klasika',\n",
       " 'uzsienio-proza',\n",
       " 'lietuviu-proza',\n",
       " 'fantastika-ir-fantasy',\n",
       " 'tikros-istorijos',\n",
       " 'istoriniai-romanai',\n",
       " 'poezija-drama-ese',\n",
       " 'folkloras-ir-mitologija',\n",
       " 'humoras-ir-komiksai',\n",
       " 'lgbt-romanai',\n",
       " 'naujausi-balto-trileriai',\n",
       " 'populiariausios-balto-knygos-patogiu-kiseniniu-formatu']"
      ]
     },
     "execution_count": 5,
     "metadata": {},
     "output_type": "execute_result"
    }
   ],
   "source": [
    "genres_list"
   ]
  },
  {
   "cell_type": "markdown",
   "metadata": {},
   "source": [
    "Pašalinamas pirmas elementas, nes ši kategoria sudaryta iš knygų rinkinių"
   ]
  },
  {
   "cell_type": "code",
   "execution_count": 6,
   "metadata": {},
   "outputs": [
    {
     "data": {
      "text/plain": [
       "'isskirtine-knygos-lt-kolekcija'"
      ]
     },
     "execution_count": 6,
     "metadata": {},
     "output_type": "execute_result"
    }
   ],
   "source": [
    "genres_list.pop(0)"
   ]
  },
  {
   "cell_type": "markdown",
   "metadata": {},
   "source": [
    "Surasti, kiek kiekviena kategorija turi puslapių"
   ]
  },
  {
   "cell_type": "code",
   "execution_count": 7,
   "metadata": {},
   "outputs": [
    {
     "name": "stdout",
     "output_type": "stream",
     "text": [
      "Žanras: meiles-romanai, Puslapių skaičius: 90\n",
      "Žanras: detektyvai-trileriai, Puslapių skaičius: 63\n",
      "Žanras: klasika, Puslapių skaičius: 31\n",
      "Žanras: uzsienio-proza, Puslapių skaičius: 287\n",
      "Žanras: lietuviu-proza, Puslapių skaičius: 63\n",
      "Žanras: fantastika-ir-fantasy, Puslapių skaičius: 40\n",
      "Žanras: tikros-istorijos, Puslapių skaičius: 8\n",
      "Žanras: istoriniai-romanai, Puslapių skaičius: 21\n",
      "Žanras: poezija-drama-ese, Puslapių skaičius: 62\n",
      "Žanras: folkloras-ir-mitologija, Puslapių skaičius: 4\n",
      "Žanras: humoras-ir-komiksai, Puslapių skaičius: 5\n",
      "Žanras: lgbt-romanai, Puslapių skaičius: 2\n",
      "Žanras: naujausi-balto-trileriai, Puslapių skaičius: 1\n",
      "Žanras: populiariausios-balto-knygos-patogiu-kiseniniu-formatu, Puslapių skaičius: 1\n"
     ]
    }
   ],
   "source": [
    "genres_info = []\n",
    "for genre in genres_list:\n",
    "    response = requests.get(f\"https://www.knygos.lt/lt/knygos/zanras/{genre}/\")\n",
    "    soup = BeautifulSoup(response.text, \"html.parser\")\n",
    "\n",
    "    # Ieškome puslapiavimo elemento\n",
    "    pagination = soup.find(class_=\"numbers d-flex\")\n",
    "\n",
    "    if pagination:\n",
    "        # Jei puslapiavimas rastas, imame priešpaskutinį elementą, kuris rodo puslapių skaičių\n",
    "        psl_sk = int(pagination.find_all(\"li\")[-2].text)\n",
    "        print(f\"Žanras: {genre}, Puslapių skaičius: {psl_sk}\")\n",
    "    else:\n",
    "        print(f\"Žanras: {genre}, Puslapiavimo elementas nerastas.\")\n",
    "    genres_info.append({\"name\": genre, \"pages\": psl_sk})\n",
    "    time.sleep(1)"
   ]
  },
  {
   "cell_type": "markdown",
   "metadata": {},
   "source": [
    "Nuskaitomos grožinės literatūros knygų nuorodos į tekstinį failą"
   ]
  },
  {
   "cell_type": "code",
   "execution_count": null,
   "metadata": {},
   "outputs": [],
   "source": [
    "# 1 variantas with apačioje\n",
    "import requests\n",
    "from bs4 import BeautifulSoup\n",
    "import time\n",
    "\n",
    "# Pereiti per kiekvieną žanrą ir generuojame nuorodas\n",
    "for genre in genres_info:\n",
    "    genre_name = genre[\"name\"]\n",
    "    page_count = genre[\"pages\"]\n",
    "    print(genre_name, page_count)\n",
    "    for page in range(1, page_count + 1):\n",
    "        url = f\"https://www.knygos.lt/lt/knygos/zanras/{genre_name}/?psl={page}/\"\n",
    "        # url = f\"https://www.knygos.lt/lt/knygos/zanras/meiles-romanai/\"\n",
    "        response = requests.get(url)\n",
    "        soup = BeautifulSoup(response.text, 'html.parser')\n",
    "        books = soup.find_all(\"a\", class_=\"product-link\")\n",
    "\n",
    "        time.sleep(1)\n",
    "        for book in books:\n",
    "            link = book.get(\"href\").strip()\n",
    "            if link:\n",
    "                with open(\"book_links.txt\", \"a+\") as failas:\n",
    "                    failas.write(f\"{link}\\n\")\n",
    "        time.sleep(1)\n",
    "\n",
    "print('Nuskaitymas baigtas. Knygų nuorodos išsaugotos į failą')"
   ]
  },
  {
   "cell_type": "code",
   "execution_count": null,
   "metadata": {},
   "outputs": [],
   "source": [
    "# 2 variantas with viršuje\n",
    "import requests\n",
    "from bs4 import BeautifulSoup\n",
    "import time\n",
    "\n",
    "output_file = \"book_links.txt\"\n",
    "\n",
    "with open(output_file, \"a\", encoding=\"utf-8\") as file:\n",
    "    for genre in genres_info:\n",
    "        genre_name = genre[\"name\"]\n",
    "        page_count = genre[\"pages\"]\n",
    "        # print(genre_name, page_count)\n",
    "        for page in range(1, page_count + 1):\n",
    "            url = f\"https://www.knygos.lt/lt/knygos/zanras/{genre_name}/?psl={page}/\"\n",
    "            response = requests.get(url)\n",
    "            soup = BeautifulSoup(response.text, \"html.parser\")\n",
    "            books = soup.find_all(\"a\", class_=\"product-link\")\n",
    "\n",
    "            time.sleep(1)\n",
    "            for book in books:\n",
    "                link = book.get(\"href\").strip()\n",
    "                if link:\n",
    "                    file.write(f\"{link}\\n\")\n",
    "            time.sleep(1)\n",
    "\n",
    "print(\"Nuskaitymas baigtas. Knygų nuorodos išsaugotos į failą\")"
   ]
  }
 ],
 "metadata": {
  "kernelspec": {
   "display_name": "Python 3",
   "language": "python",
   "name": "python3"
  },
  "language_info": {
   "codemirror_mode": {
    "name": "ipython",
    "version": 3
   },
   "file_extension": ".py",
   "mimetype": "text/x-python",
   "name": "python",
   "nbconvert_exporter": "python",
   "pygments_lexer": "ipython3",
   "version": "3.12.2"
  }
 },
 "nbformat": 4,
 "nbformat_minor": 2
}
